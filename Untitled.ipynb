{
 "cells": [
  {
   "cell_type": "code",
   "execution_count": null,
   "id": "2c294cfb",
   "metadata": {},
   "outputs": [],
   "source": [
    "import argparse\n",
    "import os\n",
    "import sys\n",
    "from pathlib import Path\n",
    "\n",
    "import torch\n",
    "import torch.backends.cudnn as cudnn\n"
   ]
  },
  {
   "cell_type": "code",
   "execution_count": null,
   "id": "8e31a27a",
   "metadata": {},
   "outputs": [],
   "source": [
    "\n",
    "FILE = Path('data/images/bus.jpg').resolve()\n"
   ]
  },
  {
   "cell_type": "code",
   "execution_count": null,
   "id": "d183c9a1",
   "metadata": {},
   "outputs": [],
   "source": [
    "ROOT = FILE.parents[0]  # YOLOv5 root directory"
   ]
  },
  {
   "cell_type": "code",
   "execution_count": null,
   "id": "b0192de1",
   "metadata": {},
   "outputs": [],
   "source": [
    "print(ROOT)"
   ]
  },
  {
   "cell_type": "code",
   "execution_count": null,
   "id": "db37faa8",
   "metadata": {},
   "outputs": [],
   "source": [
    "if str(ROOT) not in sys.path:\n",
    "    sys.path.append(str(ROOT))  # add ROOT to PATH\n",
    "ROOT = Path(os.path.relpath(ROOT, Path.cwd()))  # relative\n"
   ]
  },
  {
   "cell_type": "code",
   "execution_count": null,
   "id": "5bcb6503",
   "metadata": {},
   "outputs": [],
   "source": [
    "print(ROOT)"
   ]
  },
  {
   "cell_type": "code",
   "execution_count": null,
   "id": "30efb6b4",
   "metadata": {},
   "outputs": [],
   "source": [
    "from models.common import DetectMultiBackend\n",
    "from utils.dataloaders import IMG_FORMATS, VID_FORMATS, LoadImages, LoadStreams\n",
    "from utils.general import (LOGGER, check_file, check_img_size, check_imshow, check_requirements, colorstr, cv2,\n",
    "                           increment_path, non_max_suppression, print_args, scale_coords, strip_optimizer, xyxy2xywh)\n",
    "from utils.plots import Annotator, colors, save_one_box\n",
    "from utils.torch_utils import select_device, time_sync\n"
   ]
  },
  {
   "cell_type": "code",
   "execution_count": null,
   "id": "b29ac0d0",
   "metadata": {},
   "outputs": [],
   "source": []
  },
  {
   "cell_type": "code",
   "execution_count": null,
   "id": "c13431e4",
   "metadata": {},
   "outputs": [],
   "source": [
    "        weights=ROOT / 'yolov5s.pt'  # model.pt path(s)\n",
    "        source=ROOT / 'data/images'  # file/dir/URL/glob, 0 for webcam\n",
    "        data=ROOT / 'data/coco128.yaml'  # dataset.yaml path\n",
    "        imgsz=(640, 640)  # inference size (height, width)\n",
    "        conf_thres=0.25  # confidence threshold\n",
    "        iou_thres=0.45  # NMS IOU threshold\n",
    "        max_det=1000  # maximum detections per image\n",
    "        device=''  # cuda device, i.e. 0 or 0,1,2,3 or cpu\n",
    "        view_img=False  # show results\n",
    "        save_txt=False  # save results to *.txt\n",
    "        save_conf=False  # save confidences in --save-txt labels\n",
    "        save_crop=False  # save cropped prediction boxes\n",
    "        nosave=False  # do not save images/videos\n",
    "        classes=None  # filter by class: --class 0, or --class 0 2 3\n",
    "        agnostic_nms=False  # class-agnostic NMS\n",
    "        augment=False  # augmented inference\n",
    "        visualize=False  # visualize features\n",
    "        update=False  # update all models\n",
    "        project='../artifacts/results/detect'  # save results to project/name\n",
    "        name='exp'  # save results to project/name\n",
    "        exist_ok=False  # existing project/name ok, do not increment\n",
    "        line_thickness=3  # bounding box thickness (pixels)\n",
    "        hide_labels=False  # hide labels\n",
    "        hide_conf=False  # hide confidences\n",
    "        half=False # use FP16 half-precision inference\n",
    "        dnn=False  # use OpenCV DNN for ONNX inference"
   ]
  },
  {
   "cell_type": "code",
   "execution_count": null,
   "id": "daad695a",
   "metadata": {},
   "outputs": [],
   "source": [
    "    source = str(source)\n",
    "    save_img = not nosave and not source.endswith('.txt')  # save inference images\n",
    "    is_file = Path(source).suffix[1:] in (IMG_FORMATS + VID_FORMATS)\n",
    "    is_url = source.lower().startswith(('rtsp://', 'rtmp://', 'http://', 'https://'))\n",
    "    webcam = source.isnumeric() or source.endswith('.txt') or (is_url and not is_file)\n",
    "    if is_url and is_file:\n",
    "        source = check_file(source)  # download\n",
    "\n",
    "    # Directories\n",
    "\n",
    "    save_dir = increment_path(Path(project) / name, exist_ok=exist_ok)  # increment run\n",
    "    (save_dir / 'labels' if save_txt else save_dir).mkdir(parents=True, exist_ok=True)  # make dir"
   ]
  },
  {
   "cell_type": "code",
   "execution_count": null,
   "id": "21bc3214",
   "metadata": {},
   "outputs": [],
   "source": [
    "print(save_dir)"
   ]
  },
  {
   "cell_type": "code",
   "execution_count": null,
   "id": "ac2238e3",
   "metadata": {},
   "outputs": [],
   "source": [
    "save_dir=save_dir.parents[3]"
   ]
  },
  {
   "cell_type": "code",
   "execution_count": null,
   "id": "8ace0cec",
   "metadata": {},
   "outputs": [],
   "source": [
    "print(save_dir)"
   ]
  },
  {
   "cell_type": "code",
   "execution_count": null,
   "id": "eb56d67d",
   "metadata": {},
   "outputs": [],
   "source": [
    "import os\n",
    "os.chdir(os.path.dirname(os.getcwd()))"
   ]
  },
  {
   "cell_type": "code",
   "execution_count": null,
   "id": "493f3492",
   "metadata": {},
   "outputs": [],
   "source": [
    "    # Load model\n",
    "    device = select_device(device)\n",
    "    model = DetectMultiBackend(weights, device=device, dnn=dnn, data=data, fp16=half)\n",
    "    stride, names, pt = model.stride, model.names, model.pt\n",
    "    imgsz = check_img_size(imgsz, s=stride)  # check image size"
   ]
  },
  {
   "cell_type": "code",
   "execution_count": null,
   "id": "93497025",
   "metadata": {},
   "outputs": [],
   "source": []
  }
 ],
 "metadata": {
  "kernelspec": {
   "display_name": "Python 3 (ipykernel)",
   "language": "python",
   "name": "python3"
  },
  "language_info": {
   "codemirror_mode": {
    "name": "ipython",
    "version": 3
   },
   "file_extension": ".py",
   "mimetype": "text/x-python",
   "name": "python",
   "nbconvert_exporter": "python",
   "pygments_lexer": "ipython3",
   "version": "3.8.13"
  }
 },
 "nbformat": 4,
 "nbformat_minor": 5
}
